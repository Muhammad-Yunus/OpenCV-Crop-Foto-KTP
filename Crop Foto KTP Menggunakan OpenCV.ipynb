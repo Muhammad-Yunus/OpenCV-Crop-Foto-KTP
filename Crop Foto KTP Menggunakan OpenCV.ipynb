{
 "cells": [
  {
   "cell_type": "code",
   "execution_count": 1,
   "metadata": {},
   "outputs": [],
   "source": [
    "import cv2\n",
    "from os.path import basename\n",
    "from glob import glob\n",
    "from imutils import perspective\n",
    "from imutils import contours\n",
    "import numpy as np\n",
    "import imutils\n",
    "\n",
    "def get_contours(img):\n",
    "    # First make the image 1-bit and get contours\n",
    "    imgray = cv2.cvtColor(img, cv2.COLOR_BGR2GRAY)\n",
    "\n",
    "    ret, thresh = cv2.threshold(imgray, 0, 255, cv2.THRESH_OTSU)\n",
    "\n",
    "    img2, contours, hierarchy = cv2.findContours(thresh, 1, 2)\n",
    "\n",
    "    # filter contours that are too large or small\n",
    "    size = get_size(img)\n",
    "    contours = [cc for cc in contours if contourOK(cc, size)]\n",
    "    return contours\n",
    "\n",
    "def get_size(img):\n",
    "    ih, iw = img.shape[:2]\n",
    "    return iw * ih\n",
    "\n",
    "def contourOK(cc, size=1000000):\n",
    "    x, y, w, h = cv2.boundingRect(cc)\n",
    "    if w < 50 or h < 50: return False # too narrow or wide is bad\n",
    "    area = cv2.contourArea(cc)\n",
    "    return area < (size * 0.25) and area > 4000"
   ]
  },
  {
   "cell_type": "code",
   "execution_count": 2,
   "metadata": {},
   "outputs": [],
   "source": [
    "def find_4_coord(contours):\n",
    "    for cc in contours:\n",
    "        x, y, w, h = cv2.boundingRect(cc)\n",
    "\n",
    "        approx = cv2.approxPolyDP(cc, 0.09 * cv2.arcLength(cc, True), True)\n",
    "        n = approx.ravel() \n",
    "        i = 0\n",
    "        box = []\n",
    "        for j in n : \n",
    "            if(i % 2 == 0): \n",
    "                box.append([n[i], n[i + 1]]) \n",
    "            i = i + 1\n",
    "    return np.array(box)\n",
    "        \n",
    "def order_points(pts):\n",
    "\n",
    "    rect = np.zeros((4, 2), dtype = \"float32\")\n",
    "    s = pts.sum(axis = 1)\n",
    "    rect[0] = pts[np.argmin(s)]\n",
    "    rect[2] = pts[np.argmax(s)]\n",
    "    diff = np.diff(pts, axis = 1)\n",
    "    rect[1] = pts[np.argmin(diff)]\n",
    "    rect[3] = pts[np.argmax(diff)]\n",
    "    return rect\n",
    "\n",
    "def transform(img, pts):\n",
    "\n",
    "    rect = order_points(pts)\n",
    "    (tl, tr, br, bl) = rect\n",
    "    print(tl, tr, br, bl)\n",
    "\n",
    "    widthA = np.sqrt(((br[0] - bl[0]) ** 2) + ((br[1] - bl[1]) ** 2))\n",
    "    widthB = np.sqrt(((tr[0] - tl[0]) ** 2) + ((tr[1] - tl[1]) ** 2))\n",
    "    maxWidth = max(int(widthA), int(widthB))\n",
    "\n",
    "    heightA = np.sqrt(((tr[0] - br[0]) ** 2) + ((tr[1] - br[1]) ** 2))\n",
    "    heightB = np.sqrt(((tl[0] - bl[0]) ** 2) + ((tl[1] - bl[1]) ** 2))\n",
    "    maxHeight = max(int(heightA), int(heightB))\n",
    "\n",
    "    dst = np.array([\n",
    "        [0, 0],\n",
    "        [maxWidth - 1, 0],\n",
    "        [maxWidth - 1, maxHeight - 1],\n",
    "        [0, maxHeight - 1]], dtype = \"float32\")\n",
    "\n",
    "    M = cv2.getPerspectiveTransform(rect, dst)\n",
    "    warped = cv2.warpPerspective(img, M, (maxWidth, maxHeight))\n",
    "    return warped"
   ]
  },
  {
   "cell_type": "code",
   "execution_count": 16,
   "metadata": {},
   "outputs": [
    {
     "name": "stdout",
     "output_type": "stream",
     "text": [
      "[343. 193.] [412. 231.] [363. 323.] [293. 282.]\n"
     ]
    }
   ],
   "source": [
    "img = cv2.imread('ktp5.jpg')\n",
    "\n",
    "contours = get_contours(img)\n",
    "pts = find_4_coord(contours)\n",
    "\n",
    "img_transform = transform(img, pts)\n",
    "\n",
    "\n",
    "cv2.imshow(\"Croped Photo\", img_transform)\n",
    "cv2.imshow(\"Original\", img)\n",
    "cv2.waitKey(0)\n",
    "cv2.destroyAllWindows()"
   ]
  },
  {
   "cell_type": "code",
   "execution_count": 34,
   "metadata": {},
   "outputs": [],
   "source": []
  },
  {
   "cell_type": "code",
   "execution_count": null,
   "metadata": {},
   "outputs": [],
   "source": []
  }
 ],
 "metadata": {
  "kernelspec": {
   "display_name": "Python 3",
   "language": "python",
   "name": "python3"
  },
  "language_info": {
   "codemirror_mode": {
    "name": "ipython",
    "version": 3
   },
   "file_extension": ".py",
   "mimetype": "text/x-python",
   "name": "python",
   "nbconvert_exporter": "python",
   "pygments_lexer": "ipython3",
   "version": "3.7.6"
  }
 },
 "nbformat": 4,
 "nbformat_minor": 4
}
